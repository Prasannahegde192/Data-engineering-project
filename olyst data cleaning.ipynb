{
 "cells": [
  {
   "cell_type": "code",
   "execution_count": 0,
   "metadata": {
    "application/vnd.databricks.v1+cell": {
     "cellMetadata": {
      "byteLimit": 2048000,
      "rowLimit": 10000
     },
     "inputWidgets": {},
     "nuid": "6347b730-d2f9-4821-aca8-1003aa79475c",
     "showTitle": false,
     "tableResultSettingsMap": {},
     "title": ""
    }
   },
   "outputs": [],
   "source": [
    "from pyspark.sql import SparkSession\n",
    "spark = SparkSession.builder.appName(\"Olist ecommerce data\").getOrCreate() "
   ]
  },
  {
   "cell_type": "code",
   "execution_count": 0,
   "metadata": {
    "application/vnd.databricks.v1+cell": {
     "cellMetadata": {
      "byteLimit": 2048000,
      "rowLimit": 10000
     },
     "inputWidgets": {},
     "nuid": "e84b88e6-c378-4ac0-82de-6f60beb325d9",
     "showTitle": false,
     "tableResultSettingsMap": {},
     "title": ""
    }
   },
   "outputs": [],
   "source": [
    "from pyspark.sql.types import StructType, StructField, StringType, TimestampType\n",
    "\n",
    "orders_schema = StructType([\n",
    "    StructField(\"order_id\", StringType(), True),\n",
    "    StructField(\"customer_id\", StringType(), True),\n",
    "    StructField(\"order_status\", StringType(), True),\n",
    "    StructField(\"order_purchase_timestamp\", TimestampType(), True),\n",
    "    StructField(\"order_approved_at\", TimestampType(), True),\n",
    "    StructField(\"order_delivered_carrier_date\", TimestampType(), True),\n",
    "    StructField(\"order_delivered_customer_date\", TimestampType(), True),\n",
    "    StructField(\"order_estimated_delivery_date\", TimestampType(), True),\n",
    "])\n"
   ]
  },
  {
   "cell_type": "markdown",
   "metadata": {
    "application/vnd.databricks.v1+cell": {
     "cellMetadata": {
      "byteLimit": 2048000,
      "rowLimit": 10000
     },
     "inputWidgets": {},
     "nuid": "562740d3-439a-4a7e-9cc6-5e3a495bb26b",
     "showTitle": false,
     "tableResultSettingsMap": {},
     "title": ""
    }
   },
   "source": [
    "Created ordersdf datframe with rqd schema\n"
   ]
  },
  {
   "cell_type": "code",
   "execution_count": 0,
   "metadata": {
    "application/vnd.databricks.v1+cell": {
     "cellMetadata": {
      "byteLimit": 2048000,
      "rowLimit": 10000
     },
     "inputWidgets": {},
     "nuid": "cc63eef1-57ef-4148-90b0-d52d08bc1eaa",
     "showTitle": false,
     "tableResultSettingsMap": {},
     "title": ""
    }
   },
   "outputs": [],
   "source": [
    "orders_df = spark.read.csv(\"/Volumes/workspace/olist-data-schema/olist-db_volume/olist_orders_dataset.csv\", header=True, schema=orders_schema)"
   ]
  },
  {
   "cell_type": "code",
   "execution_count": 0,
   "metadata": {
    "application/vnd.databricks.v1+cell": {
     "cellMetadata": {
      "byteLimit": 2048000,
      "rowLimit": 10000
     },
     "inputWidgets": {},
     "nuid": "73fb1a7e-a245-4707-961b-471d307bb50e",
     "showTitle": false,
     "tableResultSettingsMap": {},
     "title": ""
    }
   },
   "outputs": [],
   "source": [
    "order_reviews_df = spark.read.csv(\"/Volumes/workspace/olist-data-schema/olist-db_volume/olist_order_reviews_dataset.csv\", header=True, inferSchema=True)\n",
    "products_df = spark.read.csv(\"/Volumes/workspace/olist-data-schema/olist-db_volume/olist_products_dataset.csv\", header=True, inferSchema=True)\n",
    "sellers_df = spark.read.csv(\"/Volumes/workspace/olist-data-schema/olist-db_volume/olist_sellers_dataset.csv\", header=True, inferSchema=True)\n",
    "category_name_df = spark.read.csv(\"/Volumes/workspace/olist-data-schema/olist-db_volume/product_category_name_translation.csv\", header=True, inferSchema=True)\n",
    "order_items_df = spark.read.csv(\"/Volumes/workspace/olist-data-schema/olist-db_volume/olist_order_items_dataset.csv\", header=True, inferSchema=True)\n",
    "order_payments_df = spark.read.csv(\"/Volumes/workspace/olist-data-schema/olist-db_volume/olist_order_payments_dataset.csv\", header=True, inferSchema=True)\n",
    "Customer_df = spark.read.csv(\"/Volumes/workspace/olist-data-schema/olist-db_volume/olist_customers_dataset.csv\", header=True, inferSchema=True)\n",
    "geolocation_df = spark.read.csv(\"/Volumes/workspace/olist-data-schema/olist-db_volume/olist_geolocation_dataset.csv\", header=True, inferSchema=True)"
   ]
  },
  {
   "cell_type": "code",
   "execution_count": 0,
   "metadata": {
    "application/vnd.databricks.v1+cell": {
     "cellMetadata": {
      "byteLimit": 2048000,
      "rowLimit": 10000
     },
     "inputWidgets": {},
     "nuid": "fe5e88b8-16e6-41f2-abb5-2e009bc3f061",
     "showTitle": false,
     "tableResultSettingsMap": {},
     "title": ""
    }
   },
   "outputs": [],
   "source": [
    "orders_df.limit(10).display()"
   ]
  },
  {
   "cell_type": "code",
   "execution_count": 0,
   "metadata": {
    "application/vnd.databricks.v1+cell": {
     "cellMetadata": {
      "byteLimit": 2048000,
      "rowLimit": 10000
     },
     "inputWidgets": {},
     "nuid": "fd47f879-b3cf-434e-b818-0c74cf42833a",
     "showTitle": false,
     "tableResultSettingsMap": {},
     "title": ""
    }
   },
   "outputs": [],
   "source": [
    "from pyspark.sql.functions import col, sum as spark_sum, when\n",
    "\n",
    "def get_null_counts(df):\n",
    "    null_exprs = [spark_sum(when(col(c).isNull(), 1).otherwise(0)).alias(c) for c in df.columns]\n",
    "    return df.select(null_exprs)\n",
    "\n"
   ]
  },
  {
   "cell_type": "code",
   "execution_count": 0,
   "metadata": {
    "application/vnd.databricks.v1+cell": {
     "cellMetadata": {
      "byteLimit": 2048000,
      "rowLimit": 10000
     },
     "inputWidgets": {},
     "nuid": "5c47ddf3-bb9f-4d6a-bc56-3e3b1ed93144",
     "showTitle": false,
     "tableResultSettingsMap": {},
     "title": ""
    }
   },
   "outputs": [],
   "source": [
    "get_null_counts(orders_df).display()"
   ]
  },
  {
   "cell_type": "code",
   "execution_count": 0,
   "metadata": {
    "application/vnd.databricks.v1+cell": {
     "cellMetadata": {
      "byteLimit": 2048000,
      "rowLimit": 10000
     },
     "inputWidgets": {},
     "nuid": "fb4e826f-d08f-41f1-9a0c-01872dee895b",
     "showTitle": false,
     "tableResultSettingsMap": {},
     "title": ""
    }
   },
   "outputs": [],
   "source": [
    "from pyspark.sql.functions import lit\n",
    "\n",
    "orders_df = orders_df.withColumn(\n",
    "    \"order_id\",\n",
    "    when(col(\"order_id\") == \"e481f51cbdc54678b7cc49136f2d6af7\", None).otherwise(col(\"order_id\")\n",
    "))"
   ]
  },
  {
   "cell_type": "markdown",
   "metadata": {
    "application/vnd.databricks.v1+cell": {
     "cellMetadata": {
      "byteLimit": 2048000,
      "rowLimit": 10000
     },
     "inputWidgets": {},
     "nuid": "46d4749f-4cf5-46ef-9964-b7b5d2cd6e8f",
     "showTitle": false,
     "tableResultSettingsMap": {},
     "title": ""
    }
   },
   "source": [
    "### Handling null in critical columns"
   ]
  },
  {
   "cell_type": "code",
   "execution_count": 0,
   "metadata": {
    "application/vnd.databricks.v1+cell": {
     "cellMetadata": {
      "byteLimit": 2048000,
      "rowLimit": 10000
     },
     "inputWidgets": {},
     "nuid": "f4540c3d-b398-4e4c-8467-fde5d0a80eec",
     "showTitle": false,
     "tableResultSettingsMap": {},
     "title": ""
    }
   },
   "outputs": [],
   "source": [
    "def drop_nulls(df, subset_cols):\n",
    "    \"\"\"\n",
    "    Drops rows with nulls in specified subset of columns.\n",
    "\n",
    "    Parameters:\n",
    "        df (DataFrame): The input DataFrame.\n",
    "        subset_cols (list): List of column names to check for nulls.\n",
    "\n",
    "    Returns:\n",
    "        cleaned_df (DataFrame): DataFrame with rows dropped.\n",
    "    \"\"\"\n",
    "    original_count = df.count()\n",
    "    cleaned_df = df.dropna(subset=subset_cols)\n",
    "    cleaned_count = cleaned_df.count()\n",
    "    dropped_count = original_count - cleaned_count\n",
    "    print(f\"Dropped {dropped_count} rows based on nulls in {subset_cols}\")\n",
    "    return cleaned_df\n"
   ]
  },
  {
   "cell_type": "code",
   "execution_count": 0,
   "metadata": {
    "application/vnd.databricks.v1+cell": {
     "cellMetadata": {
      "byteLimit": 2048000,
      "rowLimit": 10000
     },
     "inputWidgets": {},
     "nuid": "03ebb894-83c4-4f06-8833-cdd577921273",
     "showTitle": false,
     "tableResultSettingsMap": {},
     "title": ""
    }
   },
   "outputs": [],
   "source": [
    "orders_df_cleaned = drop_nulls(orders_df, [\"order_id\", \"customer_id\", \"order_purchase_timestamp\"])\n",
    "orders_df_cleaned.display()"
   ]
  },
  {
   "cell_type": "code",
   "execution_count": 0,
   "metadata": {
    "application/vnd.databricks.v1+cell": {
     "cellMetadata": {
      "byteLimit": 2048000,
      "rowLimit": 10000
     },
     "inputWidgets": {},
     "nuid": "48617326-7f6b-41da-b357-f6e8008677ec",
     "showTitle": false,
     "tableResultSettingsMap": {},
     "title": ""
    }
   },
   "outputs": [],
   "source": [
    "orders_df_cleaned.groupBy(col(\"order_status\")).count().display()"
   ]
  },
  {
   "cell_type": "code",
   "execution_count": 0,
   "metadata": {
    "application/vnd.databricks.v1+cell": {
     "cellMetadata": {
      "byteLimit": 2048000,
      "rowLimit": 10000
     },
     "inputWidgets": {},
     "nuid": "2b6262bf-3d10-4e12-ba3b-d541e5acac1a",
     "showTitle": false,
     "tableResultSettingsMap": {},
     "title": ""
    }
   },
   "outputs": [],
   "source": [
    "orders_df_cleaned.filter(col(\"order_approved_at\").isNull()).groupBy(\"order_status\").count().display()"
   ]
  },
  {
   "cell_type": "code",
   "execution_count": 0,
   "metadata": {
    "application/vnd.databricks.v1+cell": {
     "cellMetadata": {
      "byteLimit": 2048000,
      "rowLimit": 10000
     },
     "inputWidgets": {},
     "nuid": "8ff09ed2-9890-4316-a11e-8331e79c3263",
     "showTitle": false,
     "tableResultSettingsMap": {},
     "title": ""
    }
   },
   "outputs": [],
   "source": [
    "orders_df_cleaned = orders_df_cleaned.withColumn(\n",
    "    \"order_approved_at\",\n",
    "    when(\n",
    "        (col(\"order_approved_at\").isNull()) & (col(\"order_status\") == \"delivered\"),\n",
    "        col(\"order_purchase_timestamp\")  # Use purchase time as fallback\n",
    "    ).otherwise(col(\"order_approved_at\"))\n",
    ")"
   ]
  },
  {
   "cell_type": "code",
   "execution_count": 0,
   "metadata": {
    "application/vnd.databricks.v1+cell": {
     "cellMetadata": {
      "byteLimit": 2048000,
      "rowLimit": 10000
     },
     "inputWidgets": {},
     "nuid": "f433380f-9c73-4f2b-9acf-afc03e954a03",
     "showTitle": false,
     "tableResultSettingsMap": {},
     "title": ""
    }
   },
   "outputs": [],
   "source": [
    "orders_df_cleaned.filter(col(\"order_approved_at\").isNull()).groupBy(\"order_status\").count().display()"
   ]
  },
  {
   "cell_type": "code",
   "execution_count": 0,
   "metadata": {
    "application/vnd.databricks.v1+cell": {
     "cellMetadata": {
      "byteLimit": 2048000,
      "rowLimit": 10000
     },
     "inputWidgets": {},
     "nuid": "e792aba9-0f6d-482d-a847-d487ebfe0365",
     "showTitle": false,
     "tableResultSettingsMap": {},
     "title": ""
    }
   },
   "outputs": [],
   "source": [
    "orders_df_cleaned = orders_df_cleaned.withColumn(\n",
    "    \"order_delivered_carrier_date\",\n",
    "    when(\n",
    "        col(\"order_delivered_carrier_date\").isNull() & col(\"order_status\").isin(\"delivered\",\"approved\",\"invoiced\")\n",
    "        ,col(\"order_approved_at\")\n",
    "    ).otherwise(col(\"order_delivered_carrier_date\"))\n",
    ")\n",
    "orders_df_cleaned.filter(col(\"order_delivered_carrier_date\").isNull()).groupBy(\"order_status\").count().show()\n"
   ]
  },
  {
   "cell_type": "code",
   "execution_count": 0,
   "metadata": {
    "application/vnd.databricks.v1+cell": {
     "cellMetadata": {
      "byteLimit": 2048000,
      "rowLimit": 10000
     },
     "inputWidgets": {},
     "nuid": "bfcfd8b1-dc32-481f-aa6d-8ae31bffda4a",
     "showTitle": false,
     "tableResultSettingsMap": {},
     "title": ""
    }
   },
   "outputs": [],
   "source": [
    "orders_df_cleaned.filter(col(\"order_delivered_customer_date\").isNull()).groupBy(\"order_status\").count().show()\n"
   ]
  },
  {
   "cell_type": "markdown",
   "metadata": {
    "application/vnd.databricks.v1+cell": {
     "cellMetadata": {
      "byteLimit": 2048000,
      "rowLimit": 10000
     },
     "inputWidgets": {},
     "nuid": "ea820543-052c-45ed-9054-02f3f5218bc7",
     "showTitle": false,
     "tableResultSettingsMap": {},
     "title": ""
    }
   },
   "source": [
    "###adding 10 more days to below"
   ]
  },
  {
   "cell_type": "code",
   "execution_count": 0,
   "metadata": {
    "application/vnd.databricks.v1+cell": {
     "cellMetadata": {
      "byteLimit": 2048000,
      "rowLimit": 10000
     },
     "inputWidgets": {},
     "nuid": "d3c71f9f-9579-47aa-b743-efeff882adf2",
     "showTitle": false,
     "tableResultSettingsMap": {},
     "title": ""
    }
   },
   "outputs": [],
   "source": [
    "from pyspark.sql.functions import when, col, date_add, lit\n",
    "from pyspark.sql.types import TimestampType\n",
    "\n",
    "orders_df_cleaned = orders_df_cleaned.withColumn(\n",
    "    \"order_delivered_customer_date\",\n",
    "    when(\n",
    "        (col(\"order_delivered_customer_date\").isNull()) & (col(\"order_status\") == \"delivered\"),\n",
    "        date_add(col(\"order_delivered_carrier_date\"), 10)\n",
    "    ).when(\n",
    "        (col(\"order_delivered_customer_date\").isNull()) & (col(\"order_status\") != \"delivered\"),\n",
    "        lit(\"0000-01-01T19:41:10.000+00:00\").cast(TimestampType())\n",
    "    ).otherwise(col(\"order_delivered_customer_date\"))\n",
    ")\n"
   ]
  },
  {
   "cell_type": "code",
   "execution_count": 0,
   "metadata": {
    "application/vnd.databricks.v1+cell": {
     "cellMetadata": {
      "byteLimit": 2048000,
      "rowLimit": 10000
     },
     "inputWidgets": {},
     "nuid": "cd94f4b7-eacd-465d-abba-3fd1f0d321db",
     "showTitle": false,
     "tableResultSettingsMap": {},
     "title": ""
    }
   },
   "outputs": [],
   "source": [
    "orders_df_cleaned.limit(20).display()"
   ]
  },
  {
   "cell_type": "code",
   "execution_count": 0,
   "metadata": {
    "application/vnd.databricks.v1+cell": {
     "cellMetadata": {
      "byteLimit": 2048000,
      "rowLimit": 10000
     },
     "inputWidgets": {},
     "nuid": "795345dc-e3ce-413a-9dd3-effb5441e217",
     "showTitle": false,
     "tableResultSettingsMap": {},
     "title": ""
    }
   },
   "outputs": [],
   "source": [
    "orders_df_cleaned.filter(col(\"order_delivered_customer_date\").isNull()).groupBy(\"order_status\").count().show()\n",
    "get_null_counts(orders_df_cleaned).show()"
   ]
  },
  {
   "cell_type": "code",
   "execution_count": 0,
   "metadata": {
    "application/vnd.databricks.v1+cell": {
     "cellMetadata": {
      "byteLimit": 2048000,
      "rowLimit": 10000
     },
     "inputWidgets": {},
     "nuid": "3a4d14bf-533b-47eb-b859-1c99aa39a04d",
     "showTitle": false,
     "tableResultSettingsMap": {},
     "title": ""
    }
   },
   "outputs": [],
   "source": [
    "order_items_df.printSchema()\n",
    "order_items_df.groupBy(\"order_id\", \"order_item_id\").count().filter(\"count > 1\").show()\n"
   ]
  },
  {
   "cell_type": "code",
   "execution_count": 0,
   "metadata": {
    "application/vnd.databricks.v1+cell": {
     "cellMetadata": {
      "byteLimit": 2048000,
      "rowLimit": 10000
     },
     "inputWidgets": {},
     "nuid": "b0b87348-c892-4879-b1c7-f6b94dfaf59a",
     "showTitle": false,
     "tableResultSettingsMap": {},
     "title": ""
    }
   },
   "outputs": [],
   "source": [
    "from pyspark.sql.functions import *\n",
    "\n",
    "order_items_df = order_items_df.withColumn(\n",
    "    \"total_value\", round(col(\"price\") + col(\"freight_value\"))\n",
    ")\n"
   ]
  },
  {
   "cell_type": "code",
   "execution_count": 0,
   "metadata": {
    "application/vnd.databricks.v1+cell": {
     "cellMetadata": {
      "byteLimit": 2048000,
      "rowLimit": 10000
     },
     "inputWidgets": {},
     "nuid": "5aed0670-4482-4e15-a046-c6a0a131b75b",
     "showTitle": false,
     "tableResultSettingsMap": {},
     "title": ""
    }
   },
   "outputs": [],
   "source": [
    "order_items_df.groupby(\"seller_id\").agg(sum(\"price\").alias(\"total_sell_price\"),avg(\"price\").alias(\"avg_price\"),max(\"price\").alias(\"max_price\"),min(\"price\").alias(\"min_price\")).show()\n"
   ]
  },
  {
   "cell_type": "markdown",
   "metadata": {
    "application/vnd.databricks.v1+cell": {
     "cellMetadata": {
      "byteLimit": 2048000,
      "rowLimit": 10000
     },
     "inputWidgets": {},
     "nuid": "650124ca-d350-4b38-958a-85343c9cc4b7",
     "showTitle": false,
     "tableResultSettingsMap": {},
     "title": ""
    }
   },
   "source": [
    "### productsdf"
   ]
  },
  {
   "cell_type": "code",
   "execution_count": 0,
   "metadata": {
    "application/vnd.databricks.v1+cell": {
     "cellMetadata": {
      "byteLimit": 2048000,
      "rowLimit": 10000
     },
     "inputWidgets": {},
     "nuid": "9412d440-4e3c-46f4-8aac-41a0da9f19fe",
     "showTitle": false,
     "tableResultSettingsMap": {},
     "title": ""
    }
   },
   "outputs": [],
   "source": [
    "products_df.limit(10).display()"
   ]
  },
  {
   "cell_type": "code",
   "execution_count": 0,
   "metadata": {
    "application/vnd.databricks.v1+cell": {
     "cellMetadata": {
      "byteLimit": 2048000,
      "rowLimit": 10000
     },
     "inputWidgets": {},
     "nuid": "435365ea-890c-4528-8124-87cd586509d3",
     "showTitle": false,
     "tableResultSettingsMap": {},
     "title": ""
    }
   },
   "outputs": [],
   "source": [
    "get_null_counts(products_df).show()"
   ]
  },
  {
   "cell_type": "code",
   "execution_count": 0,
   "metadata": {
    "application/vnd.databricks.v1+cell": {
     "cellMetadata": {
      "byteLimit": 2048000,
      "rowLimit": 10000
     },
     "inputWidgets": {},
     "nuid": "0de909a6-620c-4c20-95d9-f31f80275499",
     "showTitle": false,
     "tableResultSettingsMap": {},
     "title": ""
    }
   },
   "outputs": [],
   "source": [
    "products_df.filter(\n",
    "    col(\"product_category_name\").isNull() &\n",
    "    col(\"product_name_lenght\").isNull() &\n",
    "    col(\"product_description_lenght\").isNull() &\n",
    "    col(\"product_photos_qty\").isNull()\n",
    ").count()\n"
   ]
  },
  {
   "cell_type": "code",
   "execution_count": 0,
   "metadata": {
    "application/vnd.databricks.v1+cell": {
     "cellMetadata": {
      "byteLimit": 2048000,
      "rowLimit": 10000
     },
     "inputWidgets": {},
     "nuid": "19e6daae-10cf-4cc3-8821-a28427eb774c",
     "showTitle": false,
     "tableResultSettingsMap": {},
     "title": ""
    }
   },
   "outputs": [],
   "source": [
    "products_df.filter(\n",
    "    (col(\"product_category_name\") == \"Unknown category\") &\n",
    "    (col(\"product_name_lenght\") == 0) &\n",
    "    (col(\"product_description_lenght\") == 0) &\n",
    "    (col(\"product_photos_qty\") == 0) &\n",
    "    (col(\"product_weight_g\") == 0) &\n",
    "    (col(\"product_length_cm\") == 0) &\n",
    "    (col(\"product_height_cm\") == 0) &\n",
    "    (col(\"product_width_cm\") == 0)\n",
    ").show()\n"
   ]
  },
  {
   "cell_type": "code",
   "execution_count": 0,
   "metadata": {
    "application/vnd.databricks.v1+cell": {
     "cellMetadata": {
      "byteLimit": 2048000,
      "rowLimit": 10000
     },
     "inputWidgets": {},
     "nuid": "56ea3603-2b2b-4ddb-abcd-c53ed735e597",
     "showTitle": false,
     "tableResultSettingsMap": {
      "0": {
       "dataGridStateBlob": null,
       "filterBlob": "{\"version\":1,\"filterGroups\":[],\"syncTimestamp\":1752003961230}",
       "queryPlanFiltersBlob": "[]",
       "tableResultIndex": 0
      }
     },
     "title": ""
    }
   },
   "outputs": [],
   "source": [
    "products_df_cleaned = products_df.fillna({\n",
    "    \"product_category_name\": \"Unknown category\",\n",
    "    \"product_name_lenght\": 0,\n",
    "    \"product_description_lenght\": 0,\n",
    "    \"product_photos_qty\": 0,\n",
    "    \"product_weight_g\": 0,\n",
    "    \"product_length_cm\": 0,\n",
    "    \"product_height_cm\": 0,\n",
    "    \"product_width_cm\": 0\n",
    "})\n",
    "products_df_cleaned.display()"
   ]
  },
  {
   "cell_type": "code",
   "execution_count": 0,
   "metadata": {
    "application/vnd.databricks.v1+cell": {
     "cellMetadata": {
      "byteLimit": 2048000,
      "rowLimit": 10000
     },
     "inputWidgets": {},
     "nuid": "cf97f565-9143-4526-a111-0884b042e32c",
     "showTitle": false,
     "tableResultSettingsMap": {},
     "title": ""
    }
   },
   "outputs": [],
   "source": [
    "get_null_counts(products_df_cleaned).show()"
   ]
  },
  {
   "cell_type": "markdown",
   "metadata": {
    "application/vnd.databricks.v1+cell": {
     "cellMetadata": {
      "byteLimit": 2048000,
      "rowLimit": 10000
     },
     "inputWidgets": {},
     "nuid": "44a8d3b2-94a4-4f1a-ba88-d8d0eb2372be",
     "showTitle": false,
     "tableResultSettingsMap": {},
     "title": ""
    }
   },
   "source": [
    "### order-payments"
   ]
  },
  {
   "cell_type": "code",
   "execution_count": 0,
   "metadata": {
    "application/vnd.databricks.v1+cell": {
     "cellMetadata": {
      "byteLimit": 2048000,
      "rowLimit": 10000
     },
     "inputWidgets": {},
     "nuid": "bfe4f0b6-62f2-43c0-9ea3-477d7c71e29a",
     "showTitle": false,
     "tableResultSettingsMap": {},
     "title": ""
    }
   },
   "outputs": [],
   "source": [
    "order_payments_df.show()"
   ]
  },
  {
   "cell_type": "markdown",
   "metadata": {
    "application/vnd.databricks.v1+cell": {
     "cellMetadata": {
      "byteLimit": 2048000,
      "rowLimit": 10000
     },
     "inputWidgets": {},
     "nuid": "8593180c-3ccd-4289-b70a-2a0de4a3c77b",
     "showTitle": false,
     "tableResultSettingsMap": {},
     "title": ""
    }
   },
   "source": [
    "### replace boleto with UPI payment"
   ]
  },
  {
   "cell_type": "code",
   "execution_count": 0,
   "metadata": {
    "application/vnd.databricks.v1+cell": {
     "cellMetadata": {
      "byteLimit": 2048000,
      "rowLimit": 10000
     },
     "inputWidgets": {},
     "nuid": "76c1cc93-c6d6-4ed6-9b38-012af8e16e43",
     "showTitle": false,
     "tableResultSettingsMap": {},
     "title": ""
    }
   },
   "outputs": [],
   "source": [
    "order_payments_df_cleaned=order_payments_df.withColumn(\"payment_type\",when(col(\"payment_type\")==\"boleto\",\"UPI_payements\") .when(col(\"payment_type\") == \"not_defined\", \"cash\").otherwise(col(\"payment_type\")))\n",
    "order_payments_df_cleaned.groupBy(\"payment_type\").count().show()"
   ]
  },
  {
   "cell_type": "code",
   "execution_count": 0,
   "metadata": {
    "application/vnd.databricks.v1+cell": {
     "cellMetadata": {
      "byteLimit": 2048000,
      "rowLimit": 10000
     },
     "inputWidgets": {},
     "nuid": "5e785fdd-7c0d-4869-aae1-c43039bde6e0",
     "showTitle": false,
     "tableResultSettingsMap": {},
     "title": ""
    }
   },
   "outputs": [],
   "source": [
    "order_payments_df_cleaned.groupBy(\"payment_type\").agg(sum(\"payment_value\"),max(\"payment_value\"),min(\"payment_value\")).show()"
   ]
  },
  {
   "cell_type": "code",
   "execution_count": 0,
   "metadata": {
    "application/vnd.databricks.v1+cell": {
     "cellMetadata": {
      "byteLimit": 2048000,
      "rowLimit": 10000
     },
     "inputWidgets": {},
     "nuid": "6f4af1c4-1e54-480e-81ec-1e2e6c24f272",
     "showTitle": false,
     "tableResultSettingsMap": {},
     "title": ""
    }
   },
   "outputs": [],
   "source": [
    "order_payment_enriched = orders_df_cleaned.join(order_payments_df_cleaned, \"order_id\", \"inner\")\n",
    "print(order_payment_enriched.count(),\n",
    "order_payments_df_cleaned.count(),\n",
    "orders_df_cleaned.count())\n",
    "get_null_counts(order_payment_enriched).show()\n",
    "print(get_null_counts(order_items_df).show(),get_null_counts(order_payments_df_cleaned).show())"
   ]
  },
  {
   "cell_type": "code",
   "execution_count": 0,
   "metadata": {
    "application/vnd.databricks.v1+cell": {
     "cellMetadata": {
      "byteLimit": 2048000,
      "rowLimit": 10000
     },
     "inputWidgets": {},
     "nuid": "5b6b57f3-5cc1-4724-9dda-d4d491098935",
     "showTitle": false,
     "tableResultSettingsMap": {},
     "title": ""
    }
   },
   "outputs": [],
   "source": [
    "order_payment_enriched.filter(col(\"order_delivered_customer_date\").isNull()) \\\n",
    "    .groupBy(\"order_status\").count().show()\n"
   ]
  },
  {
   "cell_type": "code",
   "execution_count": 0,
   "metadata": {
    "application/vnd.databricks.v1+cell": {
     "cellMetadata": {
      "byteLimit": 2048000,
      "rowLimit": 10000
     },
     "inputWidgets": {},
     "nuid": "6a275f68-63d2-4dce-95d5-4470330d3920",
     "showTitle": false,
     "tableResultSettingsMap": {},
     "title": ""
    }
   },
   "outputs": [],
   "source": [
    "display(Customer_df.groupBy(col(\"customer_state\")).count())\n",
    "get_null_counts(Customer_df).show()"
   ]
  },
  {
   "cell_type": "code",
   "execution_count": 0,
   "metadata": {
    "application/vnd.databricks.v1+cell": {
     "cellMetadata": {
      "byteLimit": 2048000,
      "rowLimit": 10000
     },
     "inputWidgets": {},
     "nuid": "74a1de2a-3974-4a14-902b-b643384a99c3",
     "showTitle": false,
     "tableResultSettingsMap": {},
     "title": ""
    }
   },
   "outputs": [],
   "source": [
    "from pyspark.sql.functions import when\n",
    "\n",
    "customers_df_cleaned = Customer_df.withColumn(\n",
    "    \"region\",\n",
    "    when(col(\"customer_state\").isin(\"SP\", \"RJ\", \"MG\", \"ES\"), \"Southeast\")\n",
    "    .when(col(\"customer_state\").isin(\"RS\", \"SC\", \"PR\"), \"South\")\n",
    "    .when(col(\"customer_state\").isin(\"BA\", \"SE\", \"AL\", \"PE\", \"PB\", \"RN\", \"PI\", \"MA\", \"CE\"), \"Northeast\")\n",
    "    .when(col(\"customer_state\").isin(\"DF\", \"GO\", \"MT\", \"MS\"), \"Center-West\")\n",
    "    .when(col(\"customer_state\").isin(\"AM\", \"PA\", \"AC\", \"RO\", \"RR\", \"TO\", \"AP\"), \"North\")\n",
    "    .otherwise(\"Unknown\")\n",
    ")\n"
   ]
  },
  {
   "cell_type": "code",
   "execution_count": 0,
   "metadata": {
    "application/vnd.databricks.v1+cell": {
     "cellMetadata": {
      "byteLimit": 2048000,
      "rowLimit": 10000
     },
     "inputWidgets": {},
     "nuid": "d325da43-63f1-4001-b6e1-308f35114c86",
     "showTitle": false,
     "tableResultSettingsMap": {},
     "title": ""
    }
   },
   "outputs": [],
   "source": [
    "customers_df_cleaned.groupBy(\"region\").count().show()\n"
   ]
  },
  {
   "cell_type": "code",
   "execution_count": 0,
   "metadata": {
    "application/vnd.databricks.v1+cell": {
     "cellMetadata": {
      "byteLimit": 2048000,
      "rowLimit": 10000
     },
     "inputWidgets": {},
     "nuid": "4690135b-5c02-49f0-9e78-6d82bfbf67ed",
     "showTitle": false,
     "tableResultSettingsMap": {},
     "title": ""
    }
   },
   "outputs": [],
   "source": [
    "from pyspark.sql.functions import countDistinct\n",
    "\n",
    "Customer_df.groupBy(\"customer_id\").agg(countDistinct(\"customer_unique_id\").alias(\"a\")).orderBy(\"a\",descending=True).show()\n",
    "\n",
    "\n"
   ]
  },
  {
   "cell_type": "code",
   "execution_count": 0,
   "metadata": {
    "application/vnd.databricks.v1+cell": {
     "cellMetadata": {
      "byteLimit": 2048000,
      "rowLimit": 10000
     },
     "inputWidgets": {},
     "nuid": "44e56326-fd2d-4d67-bb8d-e1eab07eda8c",
     "showTitle": false,
     "tableResultSettingsMap": {},
     "title": ""
    }
   },
   "outputs": [],
   "source": [
    "sellers_df.select([count(when(col(c).isNull(),1)).alias(c) for c in sellers_df.columns]).show()"
   ]
  },
  {
   "cell_type": "code",
   "execution_count": 0,
   "metadata": {
    "application/vnd.databricks.v1+cell": {
     "cellMetadata": {
      "byteLimit": 2048000,
      "rowLimit": 10000
     },
     "inputWidgets": {},
     "nuid": "4dc9ef8b-ef2b-40f7-bafd-bddbdd227050",
     "showTitle": false,
     "tableResultSettingsMap": {},
     "title": ""
    }
   },
   "outputs": [],
   "source": [
    "orders_df_cleaned.select([count(when(col(x).isNull(),1)).alias(x) for x in orders_df_cleaned.columns]).show()"
   ]
  },
  {
   "cell_type": "code",
   "execution_count": 0,
   "metadata": {
    "application/vnd.databricks.v1+cell": {
     "cellMetadata": {
      "byteLimit": 2048000,
      "rowLimit": 10000
     },
     "inputWidgets": {},
     "nuid": "76446762-8a83-443b-a95c-86a7ee650f53",
     "showTitle": false,
     "tableResultSettingsMap": {},
     "title": ""
    }
   },
   "outputs": [],
   "source": [
    "dateDifference=orders_df_cleaned.withColumn(\"date_difference\",datediff(col(\"order_delivered_customer_date\"),col(\"order_purchase_timestamp\")))\n",
    "dateDifference.display()"
   ]
  },
  {
   "cell_type": "code",
   "execution_count": 0,
   "metadata": {
    "application/vnd.databricks.v1+cell": {
     "cellMetadata": {
      "byteLimit": 2048000,
      "rowLimit": 10000
     },
     "inputWidgets": {},
     "nuid": "15ae50b3-12de-4c4b-8d76-f3cad16e9882",
     "showTitle": false,
     "tableResultSettingsMap": {},
     "title": ""
    }
   },
   "outputs": [],
   "source": []
  }
 ],
 "metadata": {
  "application/vnd.databricks.v1+notebook": {
   "computePreferences": null,
   "dashboards": [
    {
     "elements": [],
     "globalVars": {},
     "guid": "",
     "layoutOption": {
      "grid": true,
      "stack": true
     },
     "nuid": "5ed5675f-4086-419b-b529-62653f2d4f2f",
     "origId": 7202278665181015,
     "title": "Untitled",
     "version": "DashboardViewV1",
     "width": 1024
    }
   ],
   "environmentMetadata": {
    "base_environment": "",
    "environment_version": "2"
   },
   "inputWidgetPreferences": null,
   "language": "python",
   "notebookMetadata": {
    "pythonIndentUnit": 4
   },
   "notebookName": "olyst data cleaning",
   "widgets": {}
  },
  "language_info": {
   "name": "python"
  }
 },
 "nbformat": 4,
 "nbformat_minor": 0
}
